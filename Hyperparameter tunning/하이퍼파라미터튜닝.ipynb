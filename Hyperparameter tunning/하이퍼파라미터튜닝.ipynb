{
 "cells": [
  {
   "cell_type": "markdown",
   "metadata": {
    "id": "gLQCzvw0JYlf"
   },
   "source": [
    "# Hyperparameter Tuning 과제\n",
    "\n",
    "- Manual Search\n",
    "- Random Search (Grid Search 참고)\n",
    "- Bayesian Optimization using HyperOpt\n",
    "<br>연습해보기!"
   ]
  },
  {
   "cell_type": "code",
   "execution_count": 1,
   "metadata": {
    "ExecuteTime": {
     "end_time": "2021-09-24T20:46:43.988763Z",
     "start_time": "2021-09-24T20:46:43.952056Z"
    },
    "id": "1sDnWUqtJYlg"
   },
   "outputs": [],
   "source": [
    "from sklearn.model_selection import train_test_split\n",
    "from sklearn.linear_model import LogisticRegression\n",
    "from sklearn.metrics import accuracy_score\n",
    "\n",
    "from sklearn.datasets import load_iris\n",
    "import warnings\n",
    "warnings.filterwarnings('ignore')\n",
    "import time\n",
    "from functools import partial"
   ]
  },
  {
   "cell_type": "code",
   "execution_count": 2,
   "metadata": {
    "ExecuteTime": {
     "end_time": "2021-09-24T20:46:44.961821Z",
     "start_time": "2021-09-24T20:46:44.943070Z"
    },
    "id": "rA3eO5blJYlr"
   },
   "outputs": [],
   "source": [
    "iris = load_iris()\n",
    "\n",
    "X = iris.data\n",
    "y = iris.target\n",
    "\n",
    "\n"
   ]
  },
  {
   "cell_type": "code",
   "execution_count": 3,
   "metadata": {
    "ExecuteTime": {
     "end_time": "2021-09-24T20:58:53.910634Z",
     "start_time": "2021-09-24T20:58:53.859317Z"
    }
   },
   "outputs": [],
   "source": [
    "X_train, X_test, y_train, y_test = train_test_split(X, y, random_state=23)"
   ]
  },
  {
   "cell_type": "markdown",
   "metadata": {},
   "source": [
    "## 1. Manual Search\n",
    "사이킷런 Logistic Regresstion https://scikit-learn.org/stable/modules/generated/sklearn.linear_model.LogisticRegression.html?highlight=logistic%20regression#sklearn.linear_model.LogisticRegression"
   ]
  },
  {
   "cell_type": "code",
   "execution_count": 4,
   "metadata": {
    "ExecuteTime": {
     "end_time": "2021-09-24T21:00:41.903089Z",
     "start_time": "2021-09-24T21:00:41.725376Z"
    },
    "scrolled": false
   },
   "outputs": [
    {
     "name": "stdout",
     "output_type": "stream",
     "text": [
      "0.9736842105263158\n"
     ]
    }
   ],
   "source": [
    "manual = LogisticRegression(penalty='l1',solver=\"saga\", tol = 0.0001, C=4)\n",
    "manual.fit(X_train,y_train)\n",
    "prediction = manual.predict(X_test)\n",
    "\n",
    "print(accuracy_score(y_test, prediction))"
   ]
  },
  {
   "cell_type": "markdown",
   "metadata": {
    "id": "FJuP0s1VJYl2"
   },
   "source": [
    "## 2. Grid Search"
   ]
  },
  {
   "cell_type": "code",
   "execution_count": 5,
   "metadata": {
    "ExecuteTime": {
     "end_time": "2021-09-24T20:46:52.466208Z",
     "start_time": "2021-09-24T20:46:48.233455Z"
    },
    "id": "-vm5xBoDJYl3",
    "outputId": "0ea388f8-d013-4c41-80a6-d974c16bbef9"
   },
   "outputs": [
    {
     "name": "stdout",
     "output_type": "stream",
     "text": [
      "test set score : 1.0\n",
      "best parameters: {'C': 1, 'max_iter': 100}\n",
      "best CV score: 0.9553359683794467\n",
      "time : 2.432260513305664\n"
     ]
    }
   ],
   "source": [
    "from sklearn.model_selection import GridSearchCV\n",
    "\n",
    "# 파라미터 후보 설정\n",
    "## C: 표준화 정도\n",
    "## max_iter: 최대 반복 횟수\n",
    "param_grid = {'C': [0.001, 0.01, 0.1, 1, 10, 100],\n",
    "              'max_iter' : [100, 500, 1000, 1500, 2000]}\n",
    "\n",
    "# 그리드 서치 호출\n",
    "grid_search = GridSearchCV(LogisticRegression(), param_grid, cv=5, return_train_score=True)   \n",
    "\n",
    "# 데이터 분할\n",
    "X_train, X_test, y_train, y_test = train_test_split(X, y, random_state=23)\n",
    "\n",
    "start = time.time()\n",
    "# 모델 적합\n",
    "grid_search.fit(X_train, y_train)\n",
    "\n",
    "# 모델 평가\n",
    "print(f\"test set score : {grid_search.score(X_test, y_test)}\")\n",
    "\n",
    "print(f\"best parameters: {grid_search.best_params_}\")\n",
    "print(f\"best CV score: {grid_search.best_score_}\")\n",
    "\n",
    "# 소요 시간 측정\n",
    "print(\"time :\", time.time() - start)"
   ]
  },
  {
   "cell_type": "markdown",
   "metadata": {
    "id": "qDzu1DN5JYl-"
   },
   "source": [
    "## 3. Random Search\n",
    "grid search 코드와 매우매우 유사합니다"
   ]
  },
  {
   "cell_type": "code",
   "execution_count": 6,
   "metadata": {
    "ExecuteTime": {
     "end_time": "2021-09-24T20:42:41.866511Z",
     "start_time": "2021-09-24T20:42:41.835657Z"
    },
    "id": "iEpwD9lsJYl_",
    "outputId": "4f807347-64b4-411d-81f8-a7eb104d7801"
   },
   "outputs": [
    {
     "name": "stdout",
     "output_type": "stream",
     "text": [
      "0.9736842105263158\n",
      "time : 0.3127574920654297\n"
     ]
    }
   ],
   "source": [
    "from sklearn.model_selection import RandomizedSearchCV\n",
    "\n",
    "#파라미터 후보 설정\n",
    "param_grid = {'C': [0.001, 0.01, 0.1, 1, 10, 100],\n",
    "              'max_iter' : [100, 500, 1000, 1500, 2000]}\n",
    "\n",
    "# 랜덤 서치 호출\n",
    "\n",
    "logistic = LogisticRegression(solver=\"saga\")\n",
    "random = RandomizedSearchCV(logistic, param_grid, cv=5, return_train_score=True)\n",
    "\n",
    "# 데이터 분할\n",
    "X_train, X_test, y_train, y_test = train_test_split(X, y, random_state=23)\n",
    "\n",
    "start = time.time()\n",
    "# 모델 적합\n",
    "random.fit(X_train, y_train)\n",
    "\n",
    "# 모델 평가\n",
    "prediction = random.predict(X_test)\n",
    "print(accuracy_score(y_test, prediction))\n",
    "\n",
    "# 소요 시간 측정\n",
    "print(\"time :\", time.time() - start)"
   ]
  },
  {
   "cell_type": "markdown",
   "metadata": {
    "id": "Xdm1vVy2JYmN"
   },
   "source": [
    "## 4. HyperOpt"
   ]
  },
  {
   "cell_type": "code",
   "execution_count": 7,
   "metadata": {
    "ExecuteTime": {
     "end_time": "2021-09-24T17:08:35.707056Z",
     "start_time": "2021-09-24T17:08:29.489528Z"
    }
   },
   "outputs": [
    {
     "name": "stdout",
     "output_type": "stream",
     "text": [
      "Requirement already satisfied: hyperopt in c:\\users\\jeong hyunji\\anaconda3\\lib\\site-packages (0.2.5)\n",
      "Requirement already satisfied: numpy in c:\\users\\jeong hyunji\\anaconda3\\lib\\site-packages (from hyperopt) (1.19.5)\n",
      "Requirement already satisfied: cloudpickle in c:\\users\\jeong hyunji\\anaconda3\\lib\\site-packages (from hyperopt) (1.6.0)\n",
      "Requirement already satisfied: networkx>=2.2 in c:\\users\\jeong hyunji\\anaconda3\\lib\\site-packages (from hyperopt) (2.5)\n",
      "Requirement already satisfied: six in c:\\users\\jeong hyunji\\anaconda3\\lib\\site-packages (from hyperopt) (1.15.0)\n",
      "Requirement already satisfied: tqdm in c:\\users\\jeong hyunji\\anaconda3\\lib\\site-packages (from hyperopt) (4.59.0)\n",
      "Requirement already satisfied: scipy in c:\\users\\jeong hyunji\\anaconda3\\lib\\site-packages (from hyperopt) (1.6.2)\n",
      "Requirement already satisfied: future in c:\\users\\jeong hyunji\\anaconda3\\lib\\site-packages (from hyperopt) (0.18.2)\n",
      "Requirement already satisfied: decorator>=4.3.0 in c:\\users\\jeong hyunji\\anaconda3\\lib\\site-packages (from networkx>=2.2->hyperopt) (5.0.6)\n"
     ]
    },
    {
     "name": "stderr",
     "output_type": "stream",
     "text": [
      "WARNING: You are using pip version 21.2.2; however, version 21.2.4 is available.\n",
      "You should consider upgrading via the 'c:\\users\\jeong hyunji\\anaconda3\\python.exe -m pip install --upgrade pip' command.\n"
     ]
    }
   ],
   "source": [
    "!pip install hyperopt"
   ]
  },
  {
   "cell_type": "code",
   "execution_count": 8,
   "metadata": {
    "ExecuteTime": {
     "end_time": "2021-09-24T21:31:05.279023Z",
     "start_time": "2021-09-24T21:31:03.139368Z"
    },
    "scrolled": true
   },
   "outputs": [
    {
     "name": "stdout",
     "output_type": "stream",
     "text": [
      "100%|███████████████████████████████████████████████| 20/20 [00:00<00:00, 40.41trial/s, best loss: -0.9553571428571429]\n"
     ]
    },
    {
     "data": {
      "text/plain": [
       "{'fit_intercept': 0, 'max_iter': 561.4254873207349, 'penalty': 1}"
      ]
     },
     "execution_count": 8,
     "metadata": {},
     "output_type": "execute_result"
    }
   ],
   "source": [
    "from hyperopt import hp, fmin, tpe, STATUS_OK, Trials\n",
    "from sklearn.model_selection import cross_val_score\n",
    "\n",
    "space = {\n",
    "    'penalty' : hp.choice('penalty', ['l1', 'l2', 'elasticnet', 'none']), \n",
    "    'fit_intercept' : hp.choice('fit_intercept', [True, False]),\n",
    "    'max_iter' : hp.uniform('max_iter', 100,1000)\n",
    "}\n",
    "\n",
    "def objective(space):\n",
    "    model = LogisticRegression(penalty = space[\"penalty\"], fit_intercept = space[\"fit_intercept\"], max_iter = space[\"max_iter\"])\n",
    "                              \n",
    "    accuracy = cross_val_score(model, X_train, y_train, cv=4).mean()\n",
    "    \n",
    "    return {'loss' : - accuracy , 'status' : STATUS_OK }\n",
    "    \n",
    "trials = Trials()\n",
    "best = fmin(fn= objective,\n",
    "            space= space,\n",
    "            algo= tpe.suggest,\n",
    "            max_evals = 20,\n",
    "            trials= trials)\n",
    "best"
   ]
  },
  {
   "cell_type": "code",
   "execution_count": 9,
   "metadata": {
    "ExecuteTime": {
     "end_time": "2021-09-24T21:36:32.724645Z",
     "start_time": "2021-09-24T21:36:32.590849Z"
    }
   },
   "outputs": [
    {
     "name": "stdout",
     "output_type": "stream",
     "text": [
      "1.0\n"
     ]
    }
   ],
   "source": [
    "from sklearn.metrics import classification_report,confusion_matrix\n",
    "from sklearn.metrics import accuracy_score\n",
    "\n",
    "pen = {0: 'l1', 1: 'l2', 2: 'elasticnet', 3: 'none'}\n",
    "incpt = {0: True, 1: False}\n",
    "\n",
    "trained = LogisticRegression( penalty = pen[best[\"penalty\"]], fit_intercept = incpt[best['fit_intercept']], max_iter = best[\"max_iter\"]).fit(X_train,y_train)\n",
    "test = trained.predict(X_test)\n",
    "print(accuracy_score(y_test, test))"
   ]
  },
  {
   "cell_type": "markdown",
   "metadata": {},
   "source": [
    "## 선택) Bayesian Optimization 사용\n"
   ]
  },
  {
   "cell_type": "code",
   "execution_count": null,
   "metadata": {},
   "outputs": [],
   "source": [
    "!pip install bayesian-optimization"
   ]
  },
  {
   "cell_type": "code",
   "execution_count": null,
   "metadata": {},
   "outputs": [],
   "source": [
    "from bayes_opt import BayesianOptimization"
   ]
  }
 ],
 "metadata": {
  "colab": {
   "collapsed_sections": [],
   "name": "Hyperopt.ipynb",
   "provenance": []
  },
  "kernelspec": {
   "display_name": "Python 3",
   "language": "python",
   "name": "python3"
  },
  "language_info": {
   "codemirror_mode": {
    "name": "ipython",
    "version": 3
   },
   "file_extension": ".py",
   "mimetype": "text/x-python",
   "name": "python",
   "nbconvert_exporter": "python",
   "pygments_lexer": "ipython3",
   "version": "3.8.8"
  },
  "toc": {
   "base_numbering": 1,
   "nav_menu": {},
   "number_sections": false,
   "sideBar": true,
   "skip_h1_title": false,
   "title_cell": "Table of Contents",
   "title_sidebar": "Contents",
   "toc_cell": false,
   "toc_position": {
    "height": "calc(100% - 180px)",
    "left": "10px",
    "top": "150px",
    "width": "165px"
   },
   "toc_section_display": true,
   "toc_window_display": true
  },
  "varInspector": {
   "cols": {
    "lenName": 16,
    "lenType": 16,
    "lenVar": 40
   },
   "kernels_config": {
    "python": {
     "delete_cmd_postfix": "",
     "delete_cmd_prefix": "del ",
     "library": "var_list.py",
     "varRefreshCmd": "print(var_dic_list())"
    },
    "r": {
     "delete_cmd_postfix": ") ",
     "delete_cmd_prefix": "rm(",
     "library": "var_list.r",
     "varRefreshCmd": "cat(var_dic_list()) "
    }
   },
   "types_to_exclude": [
    "module",
    "function",
    "builtin_function_or_method",
    "instance",
    "_Feature"
   ],
   "window_display": false
  }
 },
 "nbformat": 4,
 "nbformat_minor": 4
}
